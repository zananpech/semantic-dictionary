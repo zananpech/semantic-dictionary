{
 "cells": [
  {
   "cell_type": "code",
   "execution_count": 3,
   "metadata": {},
   "outputs": [],
   "source": [
    "import chromadb\n",
    "\n",
    "client = chromadb.PersistentClient(path=\"./db\")"
   ]
  },
  {
   "cell_type": "code",
   "execution_count": 4,
   "metadata": {},
   "outputs": [],
   "source": [
    "collection = client.get_collection('english_dictionary')"
   ]
  },
  {
   "cell_type": "code",
   "execution_count": 17,
   "metadata": {},
   "outputs": [
    {
     "name": "stdout",
     "output_type": "stream",
     "text": [
      "Execution time: 57.16 ms\n"
     ]
    }
   ],
   "source": [
    "import time\n",
    "start_time = time.time()  # Record the start time\n",
    "\n",
    "collection.query(\n",
    "    query_texts=[\"mental\"], # Chroma will embed this for you\n",
    "    n_results=5 # how many results to return\n",
    ")\n",
    "end_time = time.time()  # Record the end time\n",
    "\n",
    "execution_time_ms = (end_time - start_time) * 1000  # Convert to milliseconds\n",
    "print(f\"Execution time: {execution_time_ms:.2f} ms\")\n"
   ]
  }
 ],
 "metadata": {
  "kernelspec": {
   "display_name": "base",
   "language": "python",
   "name": "python3"
  },
  "language_info": {
   "codemirror_mode": {
    "name": "ipython",
    "version": 3
   },
   "file_extension": ".py",
   "mimetype": "text/x-python",
   "name": "python",
   "nbconvert_exporter": "python",
   "pygments_lexer": "ipython3",
   "version": "3.11.9"
  }
 },
 "nbformat": 4,
 "nbformat_minor": 2
}
